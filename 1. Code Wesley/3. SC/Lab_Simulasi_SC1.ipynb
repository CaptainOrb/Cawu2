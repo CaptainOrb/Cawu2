{
 "cells": [
  {
   "cell_type": "code",
   "execution_count": 13,
   "metadata": {},
   "outputs": [
    {
     "name": "stdout",
     "output_type": "stream",
     "text": [
      "Left: 384.4323034267851\n",
      "Right: 399.3288551509231\n",
      "Mid: 387.26026006636687\n"
     ]
    }
   ],
   "source": [
    "# SOAL 1\n",
    "import numpy as np\n",
    "\n",
    "# define the function\n",
    "def f(x):\n",
    "    return 4*x**4 + 2*x**3 - 6*x\n",
    "\n",
    "# lower limit, upper limit, amount of points\n",
    "x1 = -3\n",
    "x2 = 3\n",
    "n = 30\n",
    "\n",
    "# calculate box width\n",
    "# note: n-1 is the amount of boxes\n",
    "width = (x2-x1)/(n-1)\n",
    "\n",
    "# find coordinates\n",
    "x = np.linspace(x1, x2, n)\n",
    "y = f(x)\n",
    "\n",
    "# sum of all the area of boxes from 0 to n-2\n",
    "left_riemann = width * sum(y[0:n-1])\n",
    "\n",
    "# sum of all the area of boxes from 1 to n-1\n",
    "right_riemann = width * sum(y[1:n])\n",
    "\n",
    "# calculate middle values for mid riemann\n",
    "x_mid = (x[0:n-1] + x[1:n])/2\n",
    "y_mid = f(x_mid)\n",
    "mid_riemann = width * sum(y_mid)\n",
    "\n",
    "# compare the results\n",
    "print(\"Left:\", left_riemann)\n",
    "print(\"Right:\", right_riemann)\n",
    "print(\"Mid:\", mid_riemann)"
   ]
  },
  {
   "cell_type": "code",
   "execution_count": 14,
   "metadata": {},
   "outputs": [
    {
     "name": "stdout",
     "output_type": "stream",
     "text": [
      "Trapezoid: 21.583893023276122\n"
     ]
    }
   ],
   "source": [
    "# SOAL 2\n",
    "from numpy import *\n",
    "\n",
    "# define the function\n",
    "def f(x):\n",
    "    return sin(x)**2 + sin(x) + 2\n",
    "\n",
    "# lower limit, upper limit, amount of points\n",
    "x1 = -pi\n",
    "x2 = 2*pi\n",
    "n = 27\n",
    "\n",
    "# calculate box width\n",
    "# note: n-1 is the amount of boxes\n",
    "width = (x2-x1)/(n-1)\n",
    "\n",
    "# find coordinates\n",
    "x = linspace(x1, x2, n)\n",
    "y = f(x)\n",
    "\n",
    "# Trapezoid\n",
    "# Area: (left + 2*mids + right)*width/2\n",
    "trapezoid = (y[0] + 2*sum(y[1:n-1]) + y[n-1]) * width/2\n",
    "\n",
    "print(\"Trapezoid:\", trapezoid)\n"
   ]
  }
 ],
 "metadata": {
  "kernelspec": {
   "display_name": "Python 3",
   "language": "python",
   "name": "python3"
  },
  "language_info": {
   "codemirror_mode": {
    "name": "ipython",
    "version": 3
   },
   "file_extension": ".py",
   "mimetype": "text/x-python",
   "name": "python",
   "nbconvert_exporter": "python",
   "pygments_lexer": "ipython3",
   "version": "3.10.12"
  }
 },
 "nbformat": 4,
 "nbformat_minor": 2
}
